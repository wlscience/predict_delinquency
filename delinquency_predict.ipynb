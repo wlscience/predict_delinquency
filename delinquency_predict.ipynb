{
 "cells": [
  {
   "cell_type": "markdown",
   "id": "881d0898-dfce-4852-984c-3aae663342d6",
   "metadata": {},
   "source": [
    "# Import libraries and dataset"
   ]
  },
  {
   "cell_type": "code",
   "execution_count": 2,
   "id": "3b00184b-a5a3-4919-97af-3aea9f51b394",
   "metadata": {},
   "outputs": [],
   "source": [
    "import numpy as np \n",
    "import pandas as pd \n",
    "import matplotlib.pyplot as plt \n",
    "\n",
    "from scipy import stats\n",
    "from scipy.stats import norm, skew\n",
    "\n",
    "import seaborn as sns\n",
    "color = sns.color_palette()\n",
    "sns.set_style('darkgrid')\n",
    "\n",
    "%matplotlib inline\n",
    "\n",
    "import warnings\n",
    "def ignore_warn(*args, **kwargs):\n",
    "    pass\n",
    "warnings.warn = ignore_warn"
   ]
  },
  {
   "cell_type": "code",
   "execution_count": 5,
   "id": "787fe801-f4ab-471d-8fb1-062ada877cf2",
   "metadata": {},
   "outputs": [],
   "source": [
    "df = pd.read_csv('/Users/williamliang/Desktop/ds/loans/sample.csv', index_col=0)"
   ]
  },
  {
   "cell_type": "code",
   "execution_count": 6,
   "id": "5f92317e-1b53-4bf9-8366-80f7be7eeb92",
   "metadata": {},
   "outputs": [
    {
     "data": {
      "text/html": [
       "<div>\n",
       "<style scoped>\n",
       "    .dataframe tbody tr th:only-of-type {\n",
       "        vertical-align: middle;\n",
       "    }\n",
       "\n",
       "    .dataframe tbody tr th {\n",
       "        vertical-align: top;\n",
       "    }\n",
       "\n",
       "    .dataframe thead th {\n",
       "        text-align: right;\n",
       "    }\n",
       "</style>\n",
       "<table border=\"1\" class=\"dataframe\">\n",
       "  <thead>\n",
       "    <tr style=\"text-align: right;\">\n",
       "      <th></th>\n",
       "      <th>age</th>\n",
       "      <th>occupied_months_at_30_day_delinquency</th>\n",
       "      <th>number_of_late_payments</th>\n",
       "      <th>30_day_delinquency</th>\n",
       "      <th>60_day_delinquency</th>\n",
       "      <th>90_day_delinquency</th>\n",
       "      <th>90_plus_day_delinquency</th>\n",
       "    </tr>\n",
       "  </thead>\n",
       "  <tbody>\n",
       "    <tr>\n",
       "      <th>0</th>\n",
       "      <td>40</td>\n",
       "      <td>6</td>\n",
       "      <td>2</td>\n",
       "      <td>0.000000</td>\n",
       "      <td>0.0</td>\n",
       "      <td>0.0</td>\n",
       "      <td>0.0</td>\n",
       "    </tr>\n",
       "    <tr>\n",
       "      <th>1</th>\n",
       "      <td>27</td>\n",
       "      <td>10</td>\n",
       "      <td>0</td>\n",
       "      <td>325.599106</td>\n",
       "      <td>0.0</td>\n",
       "      <td>0.0</td>\n",
       "      <td>0.0</td>\n",
       "    </tr>\n",
       "    <tr>\n",
       "      <th>2</th>\n",
       "      <td>51</td>\n",
       "      <td>39</td>\n",
       "      <td>1</td>\n",
       "      <td>0.000000</td>\n",
       "      <td>0.0</td>\n",
       "      <td>0.0</td>\n",
       "      <td>0.0</td>\n",
       "    </tr>\n",
       "    <tr>\n",
       "      <th>3</th>\n",
       "      <td>29</td>\n",
       "      <td>43</td>\n",
       "      <td>0</td>\n",
       "      <td>0.000000</td>\n",
       "      <td>0.0</td>\n",
       "      <td>0.0</td>\n",
       "      <td>0.0</td>\n",
       "    </tr>\n",
       "    <tr>\n",
       "      <th>4</th>\n",
       "      <td>58</td>\n",
       "      <td>6</td>\n",
       "      <td>0</td>\n",
       "      <td>0.000000</td>\n",
       "      <td>0.0</td>\n",
       "      <td>0.0</td>\n",
       "      <td>0.0</td>\n",
       "    </tr>\n",
       "  </tbody>\n",
       "</table>\n",
       "</div>"
      ],
      "text/plain": [
       "   age  occupied_months_at_30_day_delinquency  number_of_late_payments  \\\n",
       "0   40                                      6                        2   \n",
       "1   27                                     10                        0   \n",
       "2   51                                     39                        1   \n",
       "3   29                                     43                        0   \n",
       "4   58                                      6                        0   \n",
       "\n",
       "   30_day_delinquency  60_day_delinquency  90_day_delinquency  \\\n",
       "0            0.000000                 0.0                 0.0   \n",
       "1          325.599106                 0.0                 0.0   \n",
       "2            0.000000                 0.0                 0.0   \n",
       "3            0.000000                 0.0                 0.0   \n",
       "4            0.000000                 0.0                 0.0   \n",
       "\n",
       "   90_plus_day_delinquency  \n",
       "0                      0.0  \n",
       "1                      0.0  \n",
       "2                      0.0  \n",
       "3                      0.0  \n",
       "4                      0.0  "
      ]
     },
     "execution_count": 6,
     "metadata": {},
     "output_type": "execute_result"
    }
   ],
   "source": [
    "df.head()"
   ]
  },
  {
   "cell_type": "markdown",
   "id": "42e00a92-1d77-40d1-a6af-31cc8be591b1",
   "metadata": {},
   "source": [
    "Each row contains information about a tenant, including:\n",
    "1. age: tenant age\n",
    "2. occupied_months_at_30_day_delinquency: number of months resided in the unit at the time of 30-day delinquency \n",
    "3. number_of_late_payments: total number of payments that were past the due dates\n",
    "4. 30_day_delinquency: total amount of payments that haven't been made 1 to 30 days past the due date\n",
    "5. 60_day_delinquency: total amount of payments that haven't been made 30 to 60 days past the due date \n",
    "6. 90_day_delinquency: total amount of payments that haven't been made 60 to 90 days past the due date\n",
    "7. **90_plus_day_delinquency (target variable)**: total amount of payments that haven't been made over 90 days past the due date"
   ]
  },
  {
   "cell_type": "code",
   "execution_count": 7,
   "id": "ddef6892-cf1f-414f-859d-e8c44b42f7db",
   "metadata": {},
   "outputs": [
    {
     "data": {
      "text/plain": [
       "age                                      0\n",
       "occupied_months_at_30_day_delinquency    0\n",
       "number_of_late_payments                  0\n",
       "30_day_delinquency                       0\n",
       "60_day_delinquency                       0\n",
       "90_day_delinquency                       0\n",
       "90_plus_day_delinquency                  0\n",
       "dtype: int64"
      ]
     },
     "execution_count": 7,
     "metadata": {},
     "output_type": "execute_result"
    }
   ],
   "source": [
    "df.isnull().sum()\n",
    "# Dataset has no missing data"
   ]
  },
  {
   "cell_type": "code",
   "execution_count": 8,
   "id": "1e56f84b-17b0-4d6b-85b3-1f2e884d48c6",
   "metadata": {},
   "outputs": [
    {
     "data": {
      "text/plain": [
       "(5000, 7)"
      ]
     },
     "execution_count": 8,
     "metadata": {},
     "output_type": "execute_result"
    }
   ],
   "source": [
    "df.shape\n",
    "# Dataset contains information on 5000 tenants and 7 features"
   ]
  },
  {
   "cell_type": "code",
   "execution_count": 9,
   "id": "394eb9b7-b012-4c2a-bc56-4264a0cab228",
   "metadata": {},
   "outputs": [
    {
     "name": "stdout",
     "output_type": "stream",
     "text": [
      "<class 'pandas.core.frame.DataFrame'>\n",
      "Int64Index: 5000 entries, 0 to 4999\n",
      "Data columns (total 7 columns):\n",
      " #   Column                                 Non-Null Count  Dtype  \n",
      "---  ------                                 --------------  -----  \n",
      " 0   age                                    5000 non-null   int64  \n",
      " 1   occupied_months_at_30_day_delinquency  5000 non-null   int64  \n",
      " 2   number_of_late_payments                5000 non-null   int64  \n",
      " 3   30_day_delinquency                     5000 non-null   float64\n",
      " 4   60_day_delinquency                     5000 non-null   float64\n",
      " 5   90_day_delinquency                     5000 non-null   float64\n",
      " 6   90_plus_day_delinquency                5000 non-null   float64\n",
      "dtypes: float64(4), int64(3)\n",
      "memory usage: 312.5 KB\n"
     ]
    }
   ],
   "source": [
    "df.info()\n",
    "# Data is already in numerical format, no data transformation required. There are also no categorical variables"
   ]
  },
  {
   "cell_type": "markdown",
   "id": "ab93900e-dfb9-4b55-9d02-ea55c44dc346",
   "metadata": {},
   "source": [
    "# Part I. Exploratory Analysis"
   ]
  },
  {
   "cell_type": "markdown",
   "id": "0ad7c27f-700d-4967-af88-b27222edd86b",
   "metadata": {},
   "source": [
    "Columns regarding delinquencies have high means and standard deviations but medians of 0, suggesting that they may contain a majority of zeros with high outlying figures"
   ]
  },
  {
   "cell_type": "code",
   "execution_count": 10,
   "id": "a6b7c677-6be3-4547-9489-26e4e76dc18a",
   "metadata": {},
   "outputs": [
    {
     "data": {
      "text/html": [
       "<div>\n",
       "<style scoped>\n",
       "    .dataframe tbody tr th:only-of-type {\n",
       "        vertical-align: middle;\n",
       "    }\n",
       "\n",
       "    .dataframe tbody tr th {\n",
       "        vertical-align: top;\n",
       "    }\n",
       "\n",
       "    .dataframe thead th {\n",
       "        text-align: right;\n",
       "    }\n",
       "</style>\n",
       "<table border=\"1\" class=\"dataframe\">\n",
       "  <thead>\n",
       "    <tr style=\"text-align: right;\">\n",
       "      <th></th>\n",
       "      <th>age</th>\n",
       "      <th>occupied_months_at_30_day_delinquency</th>\n",
       "      <th>number_of_late_payments</th>\n",
       "      <th>30_day_delinquency</th>\n",
       "      <th>60_day_delinquency</th>\n",
       "      <th>90_day_delinquency</th>\n",
       "      <th>90_plus_day_delinquency</th>\n",
       "    </tr>\n",
       "  </thead>\n",
       "  <tbody>\n",
       "    <tr>\n",
       "      <th>count</th>\n",
       "      <td>5000.000000</td>\n",
       "      <td>5000.000000</td>\n",
       "      <td>5000.000000</td>\n",
       "      <td>5000.000000</td>\n",
       "      <td>5000.000000</td>\n",
       "      <td>5000.000000</td>\n",
       "      <td>5000.000000</td>\n",
       "    </tr>\n",
       "    <tr>\n",
       "      <th>mean</th>\n",
       "      <td>43.521400</td>\n",
       "      <td>27.424200</td>\n",
       "      <td>0.373000</td>\n",
       "      <td>173.427378</td>\n",
       "      <td>362.988946</td>\n",
       "      <td>446.259113</td>\n",
       "      <td>495.019994</td>\n",
       "    </tr>\n",
       "    <tr>\n",
       "      <th>std</th>\n",
       "      <td>15.197491</td>\n",
       "      <td>13.827223</td>\n",
       "      <td>0.581325</td>\n",
       "      <td>282.289170</td>\n",
       "      <td>743.133512</td>\n",
       "      <td>1096.350133</td>\n",
       "      <td>1469.194678</td>\n",
       "    </tr>\n",
       "    <tr>\n",
       "      <th>min</th>\n",
       "      <td>18.000000</td>\n",
       "      <td>4.000000</td>\n",
       "      <td>0.000000</td>\n",
       "      <td>0.000000</td>\n",
       "      <td>0.000000</td>\n",
       "      <td>0.000000</td>\n",
       "      <td>0.000000</td>\n",
       "    </tr>\n",
       "    <tr>\n",
       "      <th>25%</th>\n",
       "      <td>31.000000</td>\n",
       "      <td>15.000000</td>\n",
       "      <td>0.000000</td>\n",
       "      <td>0.000000</td>\n",
       "      <td>0.000000</td>\n",
       "      <td>0.000000</td>\n",
       "      <td>0.000000</td>\n",
       "    </tr>\n",
       "    <tr>\n",
       "      <th>50%</th>\n",
       "      <td>43.000000</td>\n",
       "      <td>27.000000</td>\n",
       "      <td>0.000000</td>\n",
       "      <td>0.000000</td>\n",
       "      <td>0.000000</td>\n",
       "      <td>0.000000</td>\n",
       "      <td>0.000000</td>\n",
       "    </tr>\n",
       "    <tr>\n",
       "      <th>75%</th>\n",
       "      <td>57.000000</td>\n",
       "      <td>40.000000</td>\n",
       "      <td>1.000000</td>\n",
       "      <td>284.303605</td>\n",
       "      <td>334.911103</td>\n",
       "      <td>0.000000</td>\n",
       "      <td>0.000000</td>\n",
       "    </tr>\n",
       "    <tr>\n",
       "      <th>max</th>\n",
       "      <td>69.000000</td>\n",
       "      <td>51.000000</td>\n",
       "      <td>3.000000</td>\n",
       "      <td>1830.685892</td>\n",
       "      <td>6389.412645</td>\n",
       "      <td>8178.618531</td>\n",
       "      <td>14035.961222</td>\n",
       "    </tr>\n",
       "  </tbody>\n",
       "</table>\n",
       "</div>"
      ],
      "text/plain": [
       "               age  occupied_months_at_30_day_delinquency  \\\n",
       "count  5000.000000                            5000.000000   \n",
       "mean     43.521400                              27.424200   \n",
       "std      15.197491                              13.827223   \n",
       "min      18.000000                               4.000000   \n",
       "25%      31.000000                              15.000000   \n",
       "50%      43.000000                              27.000000   \n",
       "75%      57.000000                              40.000000   \n",
       "max      69.000000                              51.000000   \n",
       "\n",
       "       number_of_late_payments  30_day_delinquency  60_day_delinquency  \\\n",
       "count              5000.000000         5000.000000         5000.000000   \n",
       "mean                  0.373000          173.427378          362.988946   \n",
       "std                   0.581325          282.289170          743.133512   \n",
       "min                   0.000000            0.000000            0.000000   \n",
       "25%                   0.000000            0.000000            0.000000   \n",
       "50%                   0.000000            0.000000            0.000000   \n",
       "75%                   1.000000          284.303605          334.911103   \n",
       "max                   3.000000         1830.685892         6389.412645   \n",
       "\n",
       "       90_day_delinquency  90_plus_day_delinquency  \n",
       "count         5000.000000              5000.000000  \n",
       "mean           446.259113               495.019994  \n",
       "std           1096.350133              1469.194678  \n",
       "min              0.000000                 0.000000  \n",
       "25%              0.000000                 0.000000  \n",
       "50%              0.000000                 0.000000  \n",
       "75%              0.000000                 0.000000  \n",
       "max           8178.618531             14035.961222  "
      ]
     },
     "execution_count": 10,
     "metadata": {},
     "output_type": "execute_result"
    }
   ],
   "source": [
    "df.describe()"
   ]
  },
  {
   "cell_type": "code",
   "execution_count": 11,
   "id": "3994162b-e09c-4259-8300-9d923e50f60b",
   "metadata": {},
   "outputs": [
    {
     "data": {
      "text/html": [
       "<div>\n",
       "<style scoped>\n",
       "    .dataframe tbody tr th:only-of-type {\n",
       "        vertical-align: middle;\n",
       "    }\n",
       "\n",
       "    .dataframe tbody tr th {\n",
       "        vertical-align: top;\n",
       "    }\n",
       "\n",
       "    .dataframe thead th {\n",
       "        text-align: right;\n",
       "    }\n",
       "</style>\n",
       "<table border=\"1\" class=\"dataframe\">\n",
       "  <thead>\n",
       "    <tr style=\"text-align: right;\">\n",
       "      <th></th>\n",
       "      <th>age</th>\n",
       "      <th>occupied_months_at_30_day_delinquency</th>\n",
       "      <th>number_of_late_payments</th>\n",
       "      <th>30_day_delinquency</th>\n",
       "      <th>60_day_delinquency</th>\n",
       "      <th>90_day_delinquency</th>\n",
       "      <th>90_plus_day_delinquency</th>\n",
       "    </tr>\n",
       "  </thead>\n",
       "  <tbody>\n",
       "    <tr>\n",
       "      <th>0</th>\n",
       "      <td>40</td>\n",
       "      <td>6</td>\n",
       "      <td>2</td>\n",
       "      <td>0.0</td>\n",
       "      <td>0.0</td>\n",
       "      <td>0.0</td>\n",
       "      <td>0.0</td>\n",
       "    </tr>\n",
       "  </tbody>\n",
       "</table>\n",
       "</div>"
      ],
      "text/plain": [
       "   age  occupied_months_at_30_day_delinquency  number_of_late_payments  \\\n",
       "0   40                                      6                        2   \n",
       "\n",
       "   30_day_delinquency  60_day_delinquency  90_day_delinquency  \\\n",
       "0                 0.0                 0.0                 0.0   \n",
       "\n",
       "   90_plus_day_delinquency  \n",
       "0                      0.0  "
      ]
     },
     "execution_count": 11,
     "metadata": {},
     "output_type": "execute_result"
    }
   ],
   "source": [
    "df.head(1)"
   ]
  },
  {
   "cell_type": "markdown",
   "id": "c2ab0e9c-eb43-411c-9a91-181b739f6f69",
   "metadata": {},
   "source": [
    "#### Intuition suggests relationship between:\n",
    "- Delinquency periods: Tenant with a late delinquency period is likely to have an earlier one as well\n",
    "- Late payments and delinquencies: Tenant with history of paying late is likely to have existing delinquencies\n",
    "- Age and late payments/delinquencies: Certain age groups with less secure incomes may have higher likelihood of late payments and delinquencies"
   ]
  },
  {
   "cell_type": "markdown",
   "id": "50409ad2-b39f-4ff3-9c99-0e941a807141",
   "metadata": {},
   "source": [
    "#### Data shows no correlation among features\n",
    "There is little to no statistical relationship among the features, and regression analysis would not return any meaningful results.\n",
    "This is likely due to the data being semi-randomly generated."
   ]
  },
  {
   "cell_type": "code",
   "execution_count": 12,
   "id": "c64a977d-4c6c-4158-aa5f-f7e2b3b700de",
   "metadata": {},
   "outputs": [
    {
     "data": {
      "image/png": "[encoded data removed]",
      "text/plain": [
       "<Figure size 360x288 with 2 Axes>"
      ]
     },
     "metadata": {
      "needs_background": "light"
     },
     "output_type": "display_data"
    }
   ],
   "source": [
    "# Correlation Matrix among Features\n",
    "\n",
    "corrmat = df.corr()\n",
    "f,ax = plt.subplots(figsize=(5,4))\n",
    "sns.heatmap(corrmat, square=True);"
   ]
  },
  {
   "cell_type": "markdown",
   "id": "f0710910-9976-49d7-83ce-6d9a4f6f36dc",
   "metadata": {},
   "source": [
    "#### Distribution of each feature\n",
    "- age and occupied_months_at_30_day_delinquency seemingly derived from uniform distribution. Real data should look more like a normal distribution\n",
    "- dataset is highly imbalanced, with a majority of 0s (not due to missing values) for columns pertaining to late payments and delinquencies. This suggests that the majority of tenants in this dataset do not have delinquencies"
   ]
  },
  {
   "cell_type": "code",
   "execution_count": 13,
   "id": "c95f2526-477b-40f0-b18c-4cab9e94a101",
   "metadata": {},
   "outputs": [
    {
     "data": {
      "image/png": "[encoded data removed]",
      "text/plain": [
       "<Figure size 720x648 with 9 Axes>"
      ]
     },
     "metadata": {
      "needs_background": "light"
     },
     "output_type": "display_data"
    }
   ],
   "source": [
    "df.hist(figsize=(10,9), bins=12, ec=\"b\", xlabelsize=8, ylabelsize=8, alpha=0.9, grid=False)\n",
    "plt.tight_layout()\n",
    "plt.show()\n",
    "\n",
    "# artificially generated data and positively skewed\n",
    "# age group but uniformly distributed"
   ]
  },
  {
   "cell_type": "markdown",
   "id": "84b4f975-713e-420a-8965-c094df64bb2f",
   "metadata": {},
   "source": [
    "The data imbalance will be problematic in building a model for prediction, as the model may become very accurate in predicting tenants who do not have 90+ day delinquencies, yet very inaccurate at predicting tenants with 90+ day delinquencies. \n",
    "\n",
    "In the insurance industry, it is much more important to be able to identify the high risk tenants, to either charge them higher premiums or reject their business altogether. Recall may therefore be a more meaningful metric than accuracy"
   ]
  },
  {
   "cell_type": "markdown",
   "id": "02af1aba-44d5-4619-87b1-47f236a9ce52",
   "metadata": {},
   "source": [
    "# Part II. Feature Engineering"
   ]
  },
  {
   "cell_type": "markdown",
   "id": "d8798ebe-0ce2-4fdb-842d-20826829bd8e",
   "metadata": {},
   "source": [
    "## Feature 1: Age_Group\n",
    "Different age groups generally have different levels of income stability.\n",
    "Thus, intuition suggests a relationship between age groups and delinquency,\n",
    "where younger or older age groups without stable jobs may be more likely to be delinquent"
   ]
  },
  {
   "cell_type": "code",
   "execution_count": 14,
   "id": "d6bd0ec5-b0af-4186-b4ed-2093109caa3c",
   "metadata": {},
   "outputs": [],
   "source": [
    "bins = [18, 24, 34, 44, 54, 64, np.inf]\n",
    "labels = [0,1,2,3,4,5]\n",
    "\n",
    "df['Age_Group'] = pd.cut(df['age'], bins, labels=labels)\n",
    "\n",
    "# One hot encode to engineer categorical age group column\n",
    "df = pd.get_dummies(df)\n",
    "df = df.rename(columns={\"Age_Group_0\": \"18_to_24\", \n",
    "                   \"Age_Group_1\": \"25_to_34\",\n",
    "                   \"Age_Group_2\": \"35_to_44\",\n",
    "                   \"Age_Group_3\": \"45_to_54\",\n",
    "                   \"Age_Group_4\": \"55_to_64\",\n",
    "                   \"Age_Group_5\": \"65_and_older\",\n",
    "                  })"
   ]
  },
  {
   "cell_type": "code",
   "execution_count": 15,
   "id": "9f8e7c39-2ad5-4411-a479-74dbb3aa0102",
   "metadata": {},
   "outputs": [
    {
     "data": {
      "text/html": [
       "<div>\n",
       "<style scoped>\n",
       "    .dataframe tbody tr th:only-of-type {\n",
       "        vertical-align: middle;\n",
       "    }\n",
       "\n",
       "    .dataframe tbody tr th {\n",
       "        vertical-align: top;\n",
       "    }\n",
       "\n",
       "    .dataframe thead th {\n",
       "        text-align: right;\n",
       "    }\n",
       "</style>\n",
       "<table border=\"1\" class=\"dataframe\">\n",
       "  <thead>\n",
       "    <tr style=\"text-align: right;\">\n",
       "      <th></th>\n",
       "      <th>age</th>\n",
       "      <th>occupied_months_at_30_day_delinquency</th>\n",
       "      <th>number_of_late_payments</th>\n",
       "      <th>30_day_delinquency</th>\n",
       "      <th>60_day_delinquency</th>\n",
       "      <th>90_day_delinquency</th>\n",
       "      <th>90_plus_day_delinquency</th>\n",
       "      <th>18_to_24</th>\n",
       "      <th>25_to_34</th>\n",
       "      <th>35_to_44</th>\n",
       "      <th>45_to_54</th>\n",
       "      <th>55_to_64</th>\n",
       "      <th>65_and_older</th>\n",
       "    </tr>\n",
       "  </thead>\n",
       "  <tbody>\n",
       "    <tr>\n",
       "      <th>0</th>\n",
       "      <td>40</td>\n",
       "      <td>6</td>\n",
       "      <td>2</td>\n",
       "      <td>0.000000</td>\n",
       "      <td>0.0</td>\n",
       "      <td>0.0</td>\n",
       "      <td>0.0</td>\n",
       "      <td>0</td>\n",
       "      <td>0</td>\n",
       "      <td>1</td>\n",
       "      <td>0</td>\n",
       "      <td>0</td>\n",
       "      <td>0</td>\n",
       "    </tr>\n",
       "    <tr>\n",
       "      <th>1</th>\n",
       "      <td>27</td>\n",
       "      <td>10</td>\n",
       "      <td>0</td>\n",
       "      <td>325.599106</td>\n",
       "      <td>0.0</td>\n",
       "      <td>0.0</td>\n",
       "      <td>0.0</td>\n",
       "      <td>0</td>\n",
       "      <td>1</td>\n",
       "      <td>0</td>\n",
       "      <td>0</td>\n",
       "      <td>0</td>\n",
       "      <td>0</td>\n",
       "    </tr>\n",
       "    <tr>\n",
       "      <th>2</th>\n",
       "      <td>51</td>\n",
       "      <td>39</td>\n",
       "      <td>1</td>\n",
       "      <td>0.000000</td>\n",
       "      <td>0.0</td>\n",
       "      <td>0.0</td>\n",
       "      <td>0.0</td>\n",
       "      <td>0</td>\n",
       "      <td>0</td>\n",
       "      <td>0</td>\n",
       "      <td>1</td>\n",
       "      <td>0</td>\n",
       "      <td>0</td>\n",
       "    </tr>\n",
       "    <tr>\n",
       "      <th>3</th>\n",
       "      <td>29</td>\n",
       "      <td>43</td>\n",
       "      <td>0</td>\n",
       "      <td>0.000000</td>\n",
       "      <td>0.0</td>\n",
       "      <td>0.0</td>\n",
       "      <td>0.0</td>\n",
       "      <td>0</td>\n",
       "      <td>1</td>\n",
       "      <td>0</td>\n",
       "      <td>0</td>\n",
       "      <td>0</td>\n",
       "      <td>0</td>\n",
       "    </tr>\n",
       "    <tr>\n",
       "      <th>4</th>\n",
       "      <td>58</td>\n",
       "      <td>6</td>\n",
       "      <td>0</td>\n",
       "      <td>0.000000</td>\n",
       "      <td>0.0</td>\n",
       "      <td>0.0</td>\n",
       "      <td>0.0</td>\n",
       "      <td>0</td>\n",
       "      <td>0</td>\n",
       "      <td>0</td>\n",
       "      <td>0</td>\n",
       "      <td>1</td>\n",
       "      <td>0</td>\n",
       "    </tr>\n",
       "  </tbody>\n",
       "</table>\n",
       "</div>"
      ],
      "text/plain": [
       "   age  occupied_months_at_30_day_delinquency  number_of_late_payments  \\\n",
       "0   40                                      6                        2   \n",
       "1   27                                     10                        0   \n",
       "2   51                                     39                        1   \n",
       "3   29                                     43                        0   \n",
       "4   58                                      6                        0   \n",
       "\n",
       "   30_day_delinquency  60_day_delinquency  90_day_delinquency  \\\n",
       "0            0.000000                 0.0                 0.0   \n",
       "1          325.599106                 0.0                 0.0   \n",
       "2            0.000000                 0.0                 0.0   \n",
       "3            0.000000                 0.0                 0.0   \n",
       "4            0.000000                 0.0                 0.0   \n",
       "\n",
       "   90_plus_day_delinquency  18_to_24  25_to_34  35_to_44  45_to_54  55_to_64  \\\n",
       "0                      0.0         0         0         1         0         0   \n",
       "1                      0.0         0         1         0         0         0   \n",
       "2                      0.0         0         0         0         1         0   \n",
       "3                      0.0         0         1         0         0         0   \n",
       "4                      0.0         0         0         0         0         1   \n",
       "\n",
       "   65_and_older  \n",
       "0             0  \n",
       "1             0  \n",
       "2             0  \n",
       "3             0  \n",
       "4             0  "
      ]
     },
     "execution_count": 15,
     "metadata": {},
     "output_type": "execute_result"
    }
   ],
   "source": [
    "df.head()"
   ]
  },
  {
   "cell_type": "markdown",
   "id": "567cc6a4-2914-486f-befd-8b7d6f2e4d10",
   "metadata": {},
   "source": [
    "## Feature 2: late2duration_ratio (Ratio of Late Payments to Occupied Months at 30 Day Delinquency)\n",
    "\n",
    "A ratio of a tenant's number of late payments to their number of months resided in the unit at the time of 30-day delinquency\n",
    "\n",
    "A tenant with a high number of late payments and a short duration of stay is different from a tenant with a high number of late payments but a long duration of stay.\n",
    "\n",
    "Total months resided would have been more ideal for this purpose"
   ]
  },
  {
   "cell_type": "code",
   "execution_count": 16,
   "id": "dcc446b8-6f6d-4a09-8385-b240e8372dee",
   "metadata": {},
   "outputs": [],
   "source": [
    "df.insert(2, 'late2duration_ratio', '')\n",
    "df['late2duration_ratio'] = df['number_of_late_payments']/df['occupied_months_at_30_day_delinquency']"
   ]
  },
  {
   "cell_type": "markdown",
   "id": "e2f6c263-787c-4eab-b4e3-6e837d0d0c94",
   "metadata": {},
   "source": [
    "## Features 3-6: Binarizing delinquency\n",
    "\n",
    "Binarizing each delinquency feature to identify tenants with delinquency, and tenants without.\n",
    "\n",
    "Since rent is different for each tenant, it's possible that it is not the amount of delinquency but simply the presence of delinquencies that can predict the likelihood of a 90+ day delinquency. "
   ]
  },
  {
   "cell_type": "code",
   "execution_count": 17,
   "id": "2cb2230e-39a5-4de3-bfae-1d0fe6d2b10a",
   "metadata": {},
   "outputs": [],
   "source": [
    "df.insert(5, 'has_30_day_delinquency', '')\n",
    "df['has_30_day_delinquency'] = (df['30_day_delinquency']>0).astype(int)"
   ]
  },
  {
   "cell_type": "code",
   "execution_count": 18,
   "id": "15948211-5093-42b2-8ff8-e3f4cc52fbac",
   "metadata": {},
   "outputs": [],
   "source": [
    "df.insert(7, 'has_60_day_delinquency', '')\n",
    "df['has_60_day_delinquency'] = (df['60_day_delinquency']>0).astype(int)"
   ]
  },
  {
   "cell_type": "code",
   "execution_count": 19,
   "id": "500d82f0-2627-44d7-a399-191a2b612fb0",
   "metadata": {},
   "outputs": [],
   "source": [
    "df.insert(9, 'has_90_day_delinquency', '')\n",
    "df['has_90_day_delinquency'] = (df['90_day_delinquency']>0).astype(int)"
   ]
  },
  {
   "cell_type": "markdown",
   "id": "8f0ec19b-bcc2-4cad-968d-a061280a39f7",
   "metadata": {},
   "source": [
    "## Features 7-8: Computing total delinquency and binarizing it\n",
    "\n",
    "Computing the total delinquency of each tenant and binarizing to identify tenants with delinquencies and tenants without any delinquencies at all. This could reveal if tenants across the dataset have some sort of delinquency."
   ]
  },
  {
   "cell_type": "code",
   "execution_count": 20,
   "id": "2d5c4926-cd79-40c6-a03d-0f6fcd0380f9",
   "metadata": {},
   "outputs": [],
   "source": [
    "df['total_delinquency'] = df['30_day_delinquency'] + df['60_day_delinquency'] + df['90_day_delinquency']\n",
    "df['has_delinquency'] = (df['total_delinquency']>0).astype(int)"
   ]
  },
  {
   "cell_type": "markdown",
   "id": "13e5a0d5-bdbb-4c37-abec-649e00298424",
   "metadata": {},
   "source": [
    "## Feature 9: Binarizing target variable for prediction of likelihood that a tenant may have a 90+ day delinquency.\n",
    "\n",
    "The research question asks for likelihood and estimated amount of 90+ day delinquency, hence this is both a classification and a regression question."
   ]
  },
  {
   "cell_type": "code",
   "execution_count": 21,
   "id": "f4f14c5c-c98f-413b-8aa1-6c07965b86f5",
   "metadata": {},
   "outputs": [],
   "source": [
    "df.insert(11, 'has_90_plus_day_delinquency', '')\n",
    "df['has_90_plus_day_delinquency'] = (df['90_plus_day_delinquency']>0).astype(int)"
   ]
  },
  {
   "cell_type": "code",
   "execution_count": 22,
   "id": "9eff33bc-145a-4cc7-909b-5bfdfd5f6417",
   "metadata": {},
   "outputs": [],
   "source": [
    "# Separate continuous and categorical columns\n",
    "cont_cols = ['age', 'occupied_months_at_30_day_delinquency', 'late2duration_ratio', 'number_of_late_payments',\n",
    "            '30_day_delinquency', '60_day_delinquency', '90_day_delinquency', '90_plus_day_delinquency',\n",
    "           'total_delinquency']\n",
    "\n",
    "cat_cols = ['has_30_day_delinquency', 'has_60_day_delinquency', 'has_90_day_delinquency', 'has_90_plus_day_delinquency',\n",
    "           '18_to_24', '25_to_34', '35_to_44', '45_to_54', '55_to_64', '65_and_older', 'has_delinquency']"
   ]
  },
  {
   "cell_type": "code",
   "execution_count": 23,
   "id": "dc5298db-7593-40fe-b8b0-3e72bfd05b33",
   "metadata": {},
   "outputs": [
    {
     "data": {
      "image/png": "[encoded data removed]",
      "text/plain": [
       "<Figure size 720x648 with 9 Axes>"
      ]
     },
     "metadata": {
      "needs_background": "light"
     },
     "output_type": "display_data"
    }
   ],
   "source": [
    "df.hist(column=cont_cols, figsize=(10,9), bins=12, ec=\"b\", xlabelsize=8, ylabelsize=8, alpha=0.9, grid=False)\n",
    "plt.tight_layout()\n",
    "plt.show()\n",
    "\n",
    "# separate quantitative and categorical columns"
   ]
  },
  {
   "cell_type": "code",
   "execution_count": 24,
   "id": "7161a5f7-892d-4cef-b898-bd578786f3bc",
   "metadata": {},
   "outputs": [
    {
     "data": {
      "image/png": "[encoded data removed]",
      "text/plain": [
       "<Figure size 720x648 with 12 Axes>"
      ]
     },
     "metadata": {
      "needs_background": "light"
     },
     "output_type": "display_data"
    }
   ],
   "source": [
    "df.hist(column=cat_cols, figsize=(10,9), bins=12, ec=\"b\", xlabelsize=8, ylabelsize=8, alpha=0.9, grid=False)\n",
    "plt.tight_layout()\n",
    "plt.show()\n",
    "\n",
    "# separate quantitative and categorical columns"
   ]
  },
  {
   "cell_type": "markdown",
   "id": "f136cf37-1765-42c5-a41e-7e5ece69e2e9",
   "metadata": {},
   "source": [
    "#### Distribution with updated features\n",
    "\n",
    "Most notably, though the imbalance in data persists, it can be observed in the engineered 'has_delinquency' column that the majority of tenants have some kind of outstanding delinquency. This is in contrast to the pre-existing delinquency columns for each time period, which showed that most tenants did not have any delinquencies.\n",
    "\n",
    "This means that in the data set, it is not the same people who owe delinquencies for each different time period. Rather, different tenants are responsible for the amounts owed in the respective delinquency periods, and the majority of tenants in the dataset have a delinquency.   \n",
    "\n",
    "This is contrary to reality, as it seems logically inconsistent that a tenant with 60 or 90 day delinquencies would not also have a 30 day delinquency. In reality, correlation can be expected such that the same tenants are responsible for delinquencies owed across time periods.\n",
    "\n",
    "Thus, this model is unlikely to be generalizeable to real data"
   ]
  },
  {
   "cell_type": "markdown",
   "id": "cd4408eb-551e-4e20-9973-60339b92c862",
   "metadata": {},
   "source": [
    "# Part III. Modeling & Evaluation"
   ]
  },
  {
   "cell_type": "markdown",
   "id": "00194baa-1e78-418d-a40a-c3de54ef8922",
   "metadata": {},
   "source": [
    "The modeling problem was split into two. First, to classify and compute the likelihood of a tenant having 90+ day delinquency. Second, to estimate the amount of 90+ day delinquency owed by a tenant."
   ]
  },
  {
   "cell_type": "markdown",
   "id": "f4827acb-ca6d-4e48-a844-1429d7d693f3",
   "metadata": {},
   "source": [
    "**a) Likelihood of 90+ day delinquency**\n",
    "- Linear: Logistic Regression\n",
    "- Non-linear: XGBoost\n",
    "\n",
    "A linear and a non-linear model were selected to evaluate which can accurately capture the data's trend. For the linear model, Logistic Regression was selected for its simplicity. For the non-linear model, XGBoost was selected for its ability to handle imbalanced datasets."
   ]
  },
  {
   "cell_type": "markdown",
   "id": "baee5455-fc1c-45ee-a313-0de538c8acb3",
   "metadata": {},
   "source": [
    "**b) Expected amount of 90+ day delinquency**\n",
    "- XGBoost Regressor\n",
    "\n",
    "XGB Regression was used for its ability to fit non-linear boundaries.\n",
    "\n",
    "Intuition suggests that linear regression would be well suited for a prediction problem such as this. However, the linearity, normality, and homoscedasticity assumptions of linear regression were violated. A log transform was performed in order to make the data suitable for linear regression. However, the transformation was unsuccessful due to the high number of zeros.\n",
    "\n",
    "Then, an attempt was made to separate the dataframes into one for negative cases, and one for positive cases. However, since this is semi-randomly generated data where the tenants with 30, 60, and 90 day delinquencies were different people spanning the dataset, there was no way to split up the dataset without losing all of the data.\n",
    "\n",
    "Therefore, linear regression was not used."
   ]
  },
  {
   "cell_type": "markdown",
   "id": "44ce3a77-e128-4c0d-b78e-b0260e1d5fae",
   "metadata": {},
   "source": [
    "### a) Likelihood of 90+ Day Delinquency"
   ]
  },
  {
   "cell_type": "code",
   "execution_count": 25,
   "id": "bb2bfba5-20ad-4875-9540-a994bc8e0a49",
   "metadata": {},
   "outputs": [],
   "source": [
    "from sklearn.model_selection import train_test_split\n",
    "from sklearn.metrics import accuracy_score, classification_report,confusion_matrix\n",
    "\n",
    "\n",
    "from sklearn.linear_model import LogisticRegression\n",
    "\n",
    "from sklearn.tree import DecisionTreeClassifier\n",
    "\n",
    "from xgboost import XGBClassifier"
   ]
  },
  {
   "cell_type": "code",
   "execution_count": 26,
   "id": "ab39c977-fcd2-41d4-b0db-a1f7489cb39c",
   "metadata": {},
   "outputs": [],
   "source": [
    "# Drop the target variable and retain the rest of the features\n",
    "X = df.drop(['90_plus_day_delinquency', 'has_90_plus_day_delinquency'], axis=1)\n",
    "y = df['has_90_plus_day_delinquency']\n",
    "\n",
    "# Split training and testing data in 2:8 ratio\n",
    "X_train, X_test, y_train, y_test = train_test_split(X, y, test_size=0.2, stratify=y)"
   ]
  },
  {
   "cell_type": "code",
   "execution_count": 24,
   "id": "dd52813f-74d4-4235-bca7-b63c53194777",
   "metadata": {},
   "outputs": [
    {
     "data": {
      "text/plain": [
       "0    0.839\n",
       "1    0.161\n",
       "Name: has_90_plus_day_delinquency, dtype: float64"
      ]
     },
     "execution_count": 24,
     "metadata": {},
     "output_type": "execute_result"
    }
   ],
   "source": [
    "# 83.9% of tenants have 90+ day delinquencies\n",
    "y.value_counts(normalize=True)"
   ]
  },
  {
   "cell_type": "code",
   "execution_count": 25,
   "id": "3ba7db7c-ff49-4644-ba1e-eaf841b827e3",
   "metadata": {},
   "outputs": [],
   "source": [
    "# SMOTE oversamples from minority class using K-Nearest Neighbors to generate a more balanced dataset\n",
    "\n",
    "from imblearn.over_sampling import SMOTE\n",
    "smt = SMOTE()\n",
    "X_smt, y_smt = smt.fit_sample(X_train, y_train)"
   ]
  },
  {
   "cell_type": "markdown",
   "id": "a50325d3-9793-4ab7-b6e1-80ab5a162cd3",
   "metadata": {},
   "source": [
    "### Logistic Regression"
   ]
  },
  {
   "cell_type": "markdown",
   "id": "ea957ef6-b6ab-4626-804e-89dd2ee723e5",
   "metadata": {},
   "source": [
    "For Logistic Regression, a model using the built in 'class_weight' parameter, and a model using the SMOTE balanced dataset were compared to see which had the higher recall."
   ]
  },
  {
   "cell_type": "code",
   "execution_count": 29,
   "id": "bf03c524-f947-4bae-823c-532b556ce5fe",
   "metadata": {},
   "outputs": [
    {
     "name": "stdout",
     "output_type": "stream",
     "text": [
      "              precision    recall  f1-score   support\n",
      "\n",
      "           0       0.84      0.43      0.57       839\n",
      "           1       0.16      0.57      0.25       161\n",
      "\n",
      "    accuracy                           0.45      1000\n",
      "   macro avg       0.50      0.50      0.41      1000\n",
      "weighted avg       0.73      0.45      0.52      1000\n",
      "\n"
     ]
    }
   ],
   "source": [
    "# Logistic Regression \n",
    "\n",
    "from sklearn.model_selection import GridSearchCV\n",
    "\n",
    "param_grid = {'C': [0.001, 0.01, 0.1, 1, 10, 100, 1000] }\n",
    "\n",
    "lr1 = LogisticRegression(class_weight = 'balanced')\n",
    "\n",
    "# Loop through predefined hyperparameters to select best ones\n",
    "lr1 = GridSearchCV(estimator = lr1,\n",
    "                 param_grid=param_grid,\n",
    "                 n_jobs = -1)\n",
    "\n",
    "# Fit training data to logistic regression\n",
    "lr1.fit(X_train, y_train)\n",
    "\n",
    "# Use model to predict test data\n",
    "y_pred = lr1.predict(X_test)\n",
    "print(classification_report(y_test, y_pred))"
   ]
  },
  {
   "cell_type": "code",
   "execution_count": 27,
   "id": "e0fd8c54-2844-40b0-8bb7-932dd7f345e1",
   "metadata": {},
   "outputs": [
    {
     "name": "stdout",
     "output_type": "stream",
     "text": [
      "[[531 308]\n",
      " [110  51]]\n"
     ]
    },
    {
     "data": {
      "image/png": "[encoded data removed]",
      "text/plain": [
       "<Figure size 432x288 with 2 Axes>"
      ]
     },
     "metadata": {
      "needs_background": "light"
     },
     "output_type": "display_data"
    }
   ],
   "source": [
    "# Show Confusion Matrix, which shows the True Positives (TP), False Positives (FP), True Negatives (TN), and False Negatives (FN) captured\n",
    "import scikitplot as skplt\n",
    "\n",
    "print(confusion_matrix(y_test, y_pred))\n",
    "skplt.metrics.plot_confusion_matrix(y_test, y_pred);"
   ]
  },
  {
   "cell_type": "markdown",
   "id": "eb749eed-5543-4813-82a0-2dc27ed1ad5e",
   "metadata": {},
   "source": [
    "Model did a poor job of predicting both negatives and positives"
   ]
  },
  {
   "cell_type": "code",
   "execution_count": 28,
   "id": "05facb1d-aae2-465f-a29e-d4fbaa4d0c5d",
   "metadata": {},
   "outputs": [
    {
     "name": "stdout",
     "output_type": "stream",
     "text": [
      "              precision    recall  f1-score   support\n",
      "\n",
      "           0       0.84      0.84      0.84       839\n",
      "           1       0.18      0.18      0.18       161\n",
      "\n",
      "    accuracy                           0.74      1000\n",
      "   macro avg       0.51      0.51      0.51      1000\n",
      "weighted avg       0.74      0.74      0.74      1000\n",
      "\n"
     ]
    }
   ],
   "source": [
    "param_grid = {'C': [0.001, 0.01, 0.1, 1, 10, 100, 1000] }\n",
    "\n",
    "lr2 = LogisticRegression()\n",
    "\n",
    "lr2 = GridSearchCV(estimator = lr2,\n",
    "                 param_grid=param_grid,\n",
    "                 n_jobs = -1)\n",
    "\n",
    "lr2.fit(X_smt, y_smt)\n",
    "\n",
    "y_pred = lr2.predict(X_test)\n",
    "print(classification_report(y_test, y_pred))"
   ]
  },
  {
   "cell_type": "code",
   "execution_count": 29,
   "id": "cd053b56-0481-49c2-8a71-946acaf2072b",
   "metadata": {},
   "outputs": [
    {
     "name": "stdout",
     "output_type": "stream",
     "text": [
      "[[708 131]\n",
      " [132  29]]\n"
     ]
    },
    {
     "data": {
      "image/png": "[encoded data removed]",
      "text/plain": [
       "<Figure size 432x288 with 2 Axes>"
      ]
     },
     "metadata": {
      "needs_background": "light"
     },
     "output_type": "display_data"
    }
   ],
   "source": [
    "print(confusion_matrix(y_test, y_pred))\n",
    "skplt.metrics.plot_confusion_matrix(y_test, y_pred);"
   ]
  },
  {
   "cell_type": "markdown",
   "id": "a91f1e46-b92f-46bd-a336-d102f9691d5c",
   "metadata": {},
   "source": [
    "Model shows high recall for negative cases, which is not useful for identifying high risk tenants."
   ]
  },
  {
   "cell_type": "markdown",
   "id": "b1baf407-af84-4606-abf9-8233bdcae1b7",
   "metadata": {},
   "source": [
    "### XGBoost"
   ]
  },
  {
   "cell_type": "markdown",
   "id": "78381a01-730b-4d18-bab0-df798887d32e",
   "metadata": {},
   "source": [
    "For XGBoost, the built in scale_pos_weight parameter was used to balance the number of positive cases (1) to negative cases (0)"
   ]
  },
  {
   "cell_type": "code",
   "execution_count": 30,
   "id": "6e4dfaf7-02e3-4854-8af8-90a87c53be68",
   "metadata": {},
   "outputs": [
    {
     "name": "stdout",
     "output_type": "stream",
     "text": [
      "[0]\tvalidation_0-aucpr:0.16074\n",
      "Will train until validation_0-aucpr hasn't improved in 10 rounds.\n",
      "[1]\tvalidation_0-aucpr:0.15207\n",
      "[2]\tvalidation_0-aucpr:0.14588\n",
      "[3]\tvalidation_0-aucpr:0.14893\n",
      "[4]\tvalidation_0-aucpr:0.14192\n",
      "[5]\tvalidation_0-aucpr:0.14073\n",
      "[6]\tvalidation_0-aucpr:0.14169\n",
      "[7]\tvalidation_0-aucpr:0.14510\n",
      "[8]\tvalidation_0-aucpr:0.14879\n",
      "[9]\tvalidation_0-aucpr:0.15135\n",
      "[10]\tvalidation_0-aucpr:0.15315\n",
      "Stopping. Best iteration:\n",
      "[0]\tvalidation_0-aucpr:0.16074\n",
      "\n"
     ]
    }
   ],
   "source": [
    "import xgboost as xgb\n",
    "scale_pos_weight = len(df[df['has_90_plus_day_delinquency']==0])/len(df[df['has_90_plus_day_delinquency']==1])\n",
    "\n",
    "clf_xgb = xgb.XGBClassifier(objective='binary:logistic', missing=None, \n",
    "                            scale_pos_weight=scale_pos_weight,seed=42)\n",
    "clf_xgb.fit(X_train,\n",
    "           y_train,\n",
    "           verbose=True,\n",
    "           early_stopping_rounds=10,\n",
    "           eval_metric='aucpr',\n",
    "           eval_set=[(X_test, y_test)]);"
   ]
  },
  {
   "cell_type": "code",
   "execution_count": 31,
   "id": "7c5a279d-6ac6-4983-a768-91dcfef787f4",
   "metadata": {},
   "outputs": [
    {
     "name": "stdout",
     "output_type": "stream",
     "text": [
      "              precision    recall  f1-score   support\n",
      "\n",
      "           0       0.84      0.74      0.79       839\n",
      "           1       0.17      0.27      0.21       161\n",
      "\n",
      "    accuracy                           0.66      1000\n",
      "   macro avg       0.50      0.50      0.50      1000\n",
      "weighted avg       0.73      0.66      0.69      1000\n",
      "\n"
     ]
    }
   ],
   "source": [
    "y_pred = clf_xgb.predict(X_test)\n",
    "print(classification_report(y_test, y_pred))"
   ]
  },
  {
   "cell_type": "code",
   "execution_count": 32,
   "id": "e8e165a0-2f64-4726-bc79-03849ede1cc7",
   "metadata": {},
   "outputs": [
    {
     "name": "stdout",
     "output_type": "stream",
     "text": [
      "[[618 221]\n",
      " [117  44]]\n"
     ]
    },
    {
     "data": {
      "image/png": "[encoded data removed]",
      "text/plain": [
       "<Figure size 432x288 with 2 Axes>"
      ]
     },
     "metadata": {
      "needs_background": "light"
     },
     "output_type": "display_data"
    }
   ],
   "source": [
    "print(confusion_matrix(y_test, y_pred))\n",
    "skplt.metrics.plot_confusion_matrix(y_test, y_pred);"
   ]
  },
  {
   "cell_type": "markdown",
   "id": "a7b23388-767e-4a9c-9a3e-0bdad4535878",
   "metadata": {},
   "source": [
    "Model did a poor job of predicting both negatives and positives"
   ]
  },
  {
   "cell_type": "markdown",
   "id": "b1cb30a3-ac54-44fb-a65f-a39e025bf73a",
   "metadata": {},
   "source": [
    "**Results from Logistic Regression using built-in 'class_weight' parameter were selected as the model had the highest recall (0.39) for classifying positive cases of 90+ day delinquency**\n",
    "\n",
    "Recall was selected as the evaluation method because for the InsurTech industry, it is much more important to be able to identify the high risk tenants, than it is to qualify low risk tenants. Since recall informs about the proportion of high risk tenants correctly identified out of all the high risk tenants, it optimizes for a model that minimizes risk. "
   ]
  },
  {
   "cell_type": "code",
   "execution_count": 33,
   "id": "e49aa1e0-b036-4c6e-a094-e076120ce39a",
   "metadata": {},
   "outputs": [
    {
     "data": {
      "text/plain": [
       "array([[0.51599782, 0.48400218],\n",
       "       [0.48500899, 0.51499101],\n",
       "       [0.48107408, 0.51892592],\n",
       "       ...,\n",
       "       [0.50051543, 0.49948457],\n",
       "       [0.47976609, 0.52023391],\n",
       "       [0.50011724, 0.49988276]])"
      ]
     },
     "execution_count": 33,
     "metadata": {},
     "output_type": "execute_result"
    }
   ],
   "source": [
    "# predict class probabilities\n",
    "probability = lr1.predict_proba(X_test)\n",
    "probability"
   ]
  },
  {
   "cell_type": "code",
   "execution_count": 34,
   "id": "9f59715c-27cf-4a22-99f3-889546b810c1",
   "metadata": {},
   "outputs": [
    {
     "data": {
      "image/png": "[encoded data removed]",
      "text/plain": [
       "<Figure size 1080x504 with 1 Axes>"
      ]
     },
     "metadata": {
      "needs_background": "light"
     },
     "output_type": "display_data"
    }
   ],
   "source": [
    "probability_log1 = lr1.predict_proba(X_test)[:,1]\n",
    "plt.figure(figsize=(15,7))\n",
    "plt.hist(probability_log1[y_test==0], bins=50, label='Not 90+ Day Delinquent', alpha=0.7, color='b')\n",
    "plt.hist(probability_log1[y_test==1], bins=50, label='90+ Day Delinquent', alpha=0.7, color='r')\n",
    "plt.xlabel('Probability of 90+ day delinquent', fontsize=25)\n",
    "plt.legend(fontsize=15)\n",
    "plt.tick_params(axis='both', labelsize=25, pad=5)\n",
    "plt.show() "
   ]
  },
  {
   "cell_type": "markdown",
   "id": "f6fc8097-b10e-4e38-a7ee-74ecfb224619",
   "metadata": {},
   "source": [
    "### b) Estimated Amount of 90+ Day Delinquency"
   ]
  },
  {
   "cell_type": "code",
   "execution_count": 35,
   "id": "4937e2c8-9b53-434d-92ea-6867d09634bd",
   "metadata": {},
   "outputs": [],
   "source": [
    "from sklearn.model_selection import cross_val_score, KFold\n",
    "from sklearn.metrics import mean_squared_error"
   ]
  },
  {
   "cell_type": "code",
   "execution_count": 37,
   "id": "d4b01412-5261-4eba-a442-eac90e88172d",
   "metadata": {},
   "outputs": [],
   "source": [
    "# Drop the target variable and retain the rest of the features\n",
    "\n",
    "X = df.drop(['90_plus_day_delinquency', 'has_90_plus_day_delinquency'], axis=1)\n",
    "y = df['90_plus_day_delinquency']\n",
    "\n",
    "# Split training and testing data in 2:8 ratio\n",
    "X_train, X_test, y_train, y_test = train_test_split(X, y, test_size=0.2)"
   ]
  },
  {
   "cell_type": "code",
   "execution_count": 38,
   "id": "5012c3d2-596a-4365-af97-f03c22f28d30",
   "metadata": {},
   "outputs": [
    {
     "data": {
      "text/plain": [
       "XGBRegressor(base_score=0.5, booster=None, colsample_bylevel=1,\n",
       "             colsample_bynode=1, colsample_bytree=1, gamma=0, gpu_id=-1,\n",
       "             importance_type='gain', interaction_constraints=None,\n",
       "             learning_rate=0.300000012, max_delta_step=0, max_depth=6,\n",
       "             min_child_weight=1, missing=nan, monotone_constraints=None,\n",
       "             n_estimators=100, n_jobs=0, num_parallel_tree=1, random_state=0,\n",
       "             reg_alpha=0, reg_lambda=1, scale_pos_weight=5.211180124223603,\n",
       "             subsample=1, tree_method=None, validate_parameters=False,\n",
       "             verbosity=0)"
      ]
     },
     "execution_count": 38,
     "metadata": {},
     "output_type": "execute_result"
    }
   ],
   "source": [
    "# Fit training data to XGBoost Regressor\n",
    "xgbr = xgb.XGBRegressor(scale_pos_weight=scale_pos_weight,verbosity=0) \n",
    "xgbr.fit(X_train, y_train)"
   ]
  },
  {
   "cell_type": "code",
   "execution_count": 39,
   "id": "599c6ded-75fd-4fd5-9671-f1a157a1eb81",
   "metadata": {},
   "outputs": [
    {
     "data": {
      "text/plain": [
       "0.7120221314439201"
      ]
     },
     "execution_count": 39,
     "metadata": {},
     "output_type": "execute_result"
    }
   ],
   "source": [
    "# Calculate training score \n",
    "score = xgbr.score(X_train, y_train)\n",
    "score"
   ]
  },
  {
   "cell_type": "code",
   "execution_count": 40,
   "id": "7d08c5a7-db54-47b1-96bd-dbe4a89e10ee",
   "metadata": {},
   "outputs": [
    {
     "name": "stdout",
     "output_type": "stream",
     "text": [
      "K-fold CV average score: -0.28\n"
     ]
    }
   ],
   "source": [
    "# Calculate cross validation score using 10-fold cross validation\n",
    "kfold = KFold(n_splits=10, shuffle=True)\n",
    "kf_cv_scores = cross_val_score(xgbr, X_train, y_train, cv=kfold )\n",
    "print(\"K-fold CV average score: %.2f\" % kf_cv_scores.mean())"
   ]
  },
  {
   "cell_type": "markdown",
   "id": "7d86a66f-07ba-46d6-b7da-8a95a1322099",
   "metadata": {},
   "source": [
    "10-fold cross validation is an industry standard, and ensures that every observation from the original dataset has the chance of appearing in training and test set"
   ]
  },
  {
   "cell_type": "markdown",
   "id": "7da1ad98-2aa2-4527-a0a0-9cca9075f7b4",
   "metadata": {},
   "source": [
    "The training score is 0.75 but the cross validation score is -0.22, which indicates that the model is overfitting to training data and not generalizeable to any new data. This was to be expected for the randomly generated data."
   ]
  },
  {
   "cell_type": "code",
   "execution_count": 41,
   "id": "a5b63da9-a640-43fd-9fa6-2faf57bb8876",
   "metadata": {},
   "outputs": [],
   "source": [
    "# Use model to predict test data\n",
    "y_pred = xgbr.predict(X_test)"
   ]
  },
  {
   "cell_type": "code",
   "execution_count": 42,
   "id": "fe6567a1-751d-4bbc-92be-58b755989b46",
   "metadata": {},
   "outputs": [
    {
     "name": "stdout",
     "output_type": "stream",
     "text": [
      "RMSE :  1552.088210\n"
     ]
    }
   ],
   "source": [
    "# Compute root mean squared error (RMSE)\n",
    "from sklearn.metrics import mean_squared_error as MSE\n",
    "\n",
    "rmse = np.sqrt(MSE(y_test, y_pred))\n",
    "print(\"RMSE : % f\" %(rmse))"
   ]
  },
  {
   "cell_type": "markdown",
   "id": "2cb5a313-9306-40ad-9878-f6e9171ed3a9",
   "metadata": {},
   "source": [
    "RMSE was used as it is more suitable for dealing with large error values such as the delinquency amounts. \n",
    "\n",
    "The large RMSE shows that data points are very far away from the fitted line and the model is not predictive of the data points at all."
   ]
  }
 ],
 "metadata": {
  "kernelspec": {
   "display_name": "Python 3",
   "language": "python",
   "name": "python3"
  },
  "language_info": {
   "codemirror_mode": {
    "name": "ipython",
    "version": 3
   },
   "file_extension": ".py",
   "mimetype": "text/x-python",
   "name": "python",
   "nbconvert_exporter": "python",
   "pygments_lexer": "ipython3",
   "version": "3.8.8"
  }
 },
 "nbformat": 4,
 "nbformat_minor": 5
}
